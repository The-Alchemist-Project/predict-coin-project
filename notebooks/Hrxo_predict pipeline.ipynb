{
 "cells": [
  {
   "cell_type": "code",
   "execution_count": 1,
   "id": "9650bea3",
   "metadata": {},
   "outputs": [],
   "source": [
    "import time\n",
    "from datetime import datetime, timedelta\n",
    "import pandas as pd\n",
    "\n",
    "from binance import Client\n",
    "\n",
    "client = Client()"
   ]
  },
  {
   "cell_type": "code",
   "execution_count": 2,
   "id": "5ac979e5",
   "metadata": {},
   "outputs": [],
   "source": [
    "# global config\n",
    "symbol = \"BTCUSDT\"\n",
    "interval = client.KLINE_INTERVAL_1HOUR\n",
    "data_lim = 6 * 30 * 24 # 1 hour in 6 months\n",
    "# start = int(time.time() - data_lim * 3600)\n",
    "\n",
    "start = int((datetime.today() - timedelta(days=180)).timestamp()*1000)"
   ]
  },
  {
   "cell_type": "code",
   "execution_count": 3,
   "id": "5fe3f1da",
   "metadata": {},
   "outputs": [],
   "source": [
    "# dataframe use for saving data\n",
    "\n",
    "cols = [\"openTime\", \"open\", \"high\", \"low\", \"close\",\n",
    "        \"volume\", \"closeTime\", \"quoteAssetVolume\", \"numberOfTrader\",\n",
    "        \"takerBuyBaseAssetVolume\", \"takerBuyQuoteAssetVolume\", \"ignore\"]\n",
    "df = pd.DataFrame(columns=cols)"
   ]
  },
  {
   "cell_type": "code",
   "execution_count": 4,
   "id": "df5fea9d",
   "metadata": {},
   "outputs": [],
   "source": [
    "klines = client.get_klines(symbol=symbol, interval=interval, startTime=start, limit=500)"
   ]
  },
  {
   "cell_type": "code",
   "execution_count": 5,
   "id": "2f4fa87d",
   "metadata": {},
   "outputs": [],
   "source": [
    "# for kline in klines:\n",
    "#     df.loc[len(df)] = kline\n",
    "\n",
    "df = pd.read_csv(\"BTC_USDT.csv\")"
   ]
  },
  {
   "cell_type": "code",
   "execution_count": 6,
   "id": "341e3e92",
   "metadata": {},
   "outputs": [],
   "source": [
    "import pandas as pd\n",
    "import numpy as np\n",
    "import matplotlib.pyplot as plt\n",
    "\n",
    "from sklearn.preprocessing import MinMaxScaler\n",
    "from sklearn.metrics import mean_squared_error\n",
    "from keras.models import Sequential\n",
    "from keras.layers import Dense\n",
    "from keras.layers import LSTM\n",
    "from keras.callbacks import EarlyStopping"
   ]
  },
  {
   "cell_type": "code",
   "execution_count": 7,
   "id": "e8d59780",
   "metadata": {},
   "outputs": [],
   "source": [
    "class CFG:\n",
    "    n_predicts=48 # predict price for next 48 hours"
   ]
  },
  {
   "cell_type": "code",
   "execution_count": 8,
   "id": "25996b58",
   "metadata": {},
   "outputs": [
    {
     "data": {
      "text/html": [
       "<div>\n",
       "<style scoped>\n",
       "    .dataframe tbody tr th:only-of-type {\n",
       "        vertical-align: middle;\n",
       "    }\n",
       "\n",
       "    .dataframe tbody tr th {\n",
       "        vertical-align: top;\n",
       "    }\n",
       "\n",
       "    .dataframe thead th {\n",
       "        text-align: right;\n",
       "    }\n",
       "</style>\n",
       "<table border=\"1\" class=\"dataframe\">\n",
       "  <thead>\n",
       "    <tr style=\"text-align: right;\">\n",
       "      <th></th>\n",
       "      <th>id</th>\n",
       "      <th>idCoin</th>\n",
       "      <th>openTime</th>\n",
       "      <th>open</th>\n",
       "      <th>high</th>\n",
       "      <th>low</th>\n",
       "      <th>close</th>\n",
       "      <th>volume</th>\n",
       "      <th>closeTime</th>\n",
       "      <th>quoteAssetVolume</th>\n",
       "      <th>numberOfTrader</th>\n",
       "      <th>takerBuyBaseAssetVolume</th>\n",
       "      <th>takerBuyQuoteAssetVolume</th>\n",
       "      <th>ignore</th>\n",
       "      <th>created_at</th>\n",
       "      <th>updated_at</th>\n",
       "    </tr>\n",
       "  </thead>\n",
       "  <tbody>\n",
       "    <tr>\n",
       "      <th>0</th>\n",
       "      <td>2850994</td>\n",
       "      <td>410</td>\n",
       "      <td>1667894400000</td>\n",
       "      <td>19796.90</td>\n",
       "      <td>19801.39</td>\n",
       "      <td>19663.03</td>\n",
       "      <td>19729.90</td>\n",
       "      <td>18421.65229</td>\n",
       "      <td>1667897999999</td>\n",
       "      <td>3.634725e+08</td>\n",
       "      <td>395167</td>\n",
       "      <td>8974.26163</td>\n",
       "      <td>1.770740e+08</td>\n",
       "      <td>0.0</td>\n",
       "      <td>2023-05-07 14:23:22</td>\n",
       "      <td>2023-05-07 14:23:22</td>\n",
       "    </tr>\n",
       "    <tr>\n",
       "      <th>1</th>\n",
       "      <td>2850995</td>\n",
       "      <td>410</td>\n",
       "      <td>1667898000000</td>\n",
       "      <td>19729.90</td>\n",
       "      <td>19794.30</td>\n",
       "      <td>19695.46</td>\n",
       "      <td>19776.33</td>\n",
       "      <td>13578.03427</td>\n",
       "      <td>1667901599999</td>\n",
       "      <td>2.682153e+08</td>\n",
       "      <td>298298</td>\n",
       "      <td>6810.67136</td>\n",
       "      <td>1.345414e+08</td>\n",
       "      <td>0.0</td>\n",
       "      <td>2023-05-07 14:23:22</td>\n",
       "      <td>2023-05-07 14:23:22</td>\n",
       "    </tr>\n",
       "    <tr>\n",
       "      <th>2</th>\n",
       "      <td>2850996</td>\n",
       "      <td>410</td>\n",
       "      <td>1667901600000</td>\n",
       "      <td>19775.80</td>\n",
       "      <td>19786.31</td>\n",
       "      <td>19649.14</td>\n",
       "      <td>19690.25</td>\n",
       "      <td>12789.22464</td>\n",
       "      <td>1667905199999</td>\n",
       "      <td>2.523140e+08</td>\n",
       "      <td>295084</td>\n",
       "      <td>6257.13309</td>\n",
       "      <td>1.234495e+08</td>\n",
       "      <td>0.0</td>\n",
       "      <td>2023-05-07 14:23:22</td>\n",
       "      <td>2023-05-07 14:23:22</td>\n",
       "    </tr>\n",
       "    <tr>\n",
       "      <th>3</th>\n",
       "      <td>2850997</td>\n",
       "      <td>410</td>\n",
       "      <td>1667905200000</td>\n",
       "      <td>19690.25</td>\n",
       "      <td>19736.83</td>\n",
       "      <td>19580.33</td>\n",
       "      <td>19699.04</td>\n",
       "      <td>16578.59592</td>\n",
       "      <td>1667908799999</td>\n",
       "      <td>3.263770e+08</td>\n",
       "      <td>355567</td>\n",
       "      <td>8276.39964</td>\n",
       "      <td>1.629394e+08</td>\n",
       "      <td>0.0</td>\n",
       "      <td>2023-05-07 14:23:22</td>\n",
       "      <td>2023-05-07 14:23:22</td>\n",
       "    </tr>\n",
       "    <tr>\n",
       "      <th>4</th>\n",
       "      <td>2850998</td>\n",
       "      <td>410</td>\n",
       "      <td>1667908800000</td>\n",
       "      <td>19699.04</td>\n",
       "      <td>19746.78</td>\n",
       "      <td>19645.66</td>\n",
       "      <td>19722.32</td>\n",
       "      <td>12839.36089</td>\n",
       "      <td>1667912399999</td>\n",
       "      <td>2.529239e+08</td>\n",
       "      <td>314195</td>\n",
       "      <td>6452.47835</td>\n",
       "      <td>1.271169e+08</td>\n",
       "      <td>0.0</td>\n",
       "      <td>2023-05-07 14:23:22</td>\n",
       "      <td>2023-05-07 14:23:22</td>\n",
       "    </tr>\n",
       "    <tr>\n",
       "      <th>...</th>\n",
       "      <td>...</td>\n",
       "      <td>...</td>\n",
       "      <td>...</td>\n",
       "      <td>...</td>\n",
       "      <td>...</td>\n",
       "      <td>...</td>\n",
       "      <td>...</td>\n",
       "      <td>...</td>\n",
       "      <td>...</td>\n",
       "      <td>...</td>\n",
       "      <td>...</td>\n",
       "      <td>...</td>\n",
       "      <td>...</td>\n",
       "      <td>...</td>\n",
       "      <td>...</td>\n",
       "      <td>...</td>\n",
       "    </tr>\n",
       "    <tr>\n",
       "      <th>4619</th>\n",
       "      <td>9265230</td>\n",
       "      <td>410</td>\n",
       "      <td>1684526400000</td>\n",
       "      <td>26834.47</td>\n",
       "      <td>26875.81</td>\n",
       "      <td>26807.73</td>\n",
       "      <td>26831.04</td>\n",
       "      <td>599.06929</td>\n",
       "      <td>1684529999999</td>\n",
       "      <td>1.607944e+07</td>\n",
       "      <td>19378</td>\n",
       "      <td>286.71293</td>\n",
       "      <td>7.694954e+06</td>\n",
       "      <td>0.0</td>\n",
       "      <td>2023-05-20 07:05:09</td>\n",
       "      <td>2023-05-20 07:05:09</td>\n",
       "    </tr>\n",
       "    <tr>\n",
       "      <th>4620</th>\n",
       "      <td>9265231</td>\n",
       "      <td>410</td>\n",
       "      <td>1684530000000</td>\n",
       "      <td>26831.03</td>\n",
       "      <td>26906.13</td>\n",
       "      <td>26826.57</td>\n",
       "      <td>26906.12</td>\n",
       "      <td>556.46863</td>\n",
       "      <td>1684533599999</td>\n",
       "      <td>1.495156e+07</td>\n",
       "      <td>19529</td>\n",
       "      <td>305.53001</td>\n",
       "      <td>8.208642e+06</td>\n",
       "      <td>0.0</td>\n",
       "      <td>2023-05-20 07:05:09</td>\n",
       "      <td>2023-05-20 07:05:09</td>\n",
       "    </tr>\n",
       "    <tr>\n",
       "      <th>4621</th>\n",
       "      <td>9265232</td>\n",
       "      <td>410</td>\n",
       "      <td>1684533600000</td>\n",
       "      <td>26906.13</td>\n",
       "      <td>26921.21</td>\n",
       "      <td>26862.18</td>\n",
       "      <td>26871.15</td>\n",
       "      <td>454.80868</td>\n",
       "      <td>1684537199999</td>\n",
       "      <td>1.222681e+07</td>\n",
       "      <td>15341</td>\n",
       "      <td>213.64668</td>\n",
       "      <td>5.743318e+06</td>\n",
       "      <td>0.0</td>\n",
       "      <td>2023-05-20 07:05:09</td>\n",
       "      <td>2023-05-20 07:05:09</td>\n",
       "    </tr>\n",
       "    <tr>\n",
       "      <th>4622</th>\n",
       "      <td>9265233</td>\n",
       "      <td>410</td>\n",
       "      <td>1684537200000</td>\n",
       "      <td>26871.15</td>\n",
       "      <td>26900.00</td>\n",
       "      <td>26864.03</td>\n",
       "      <td>26880.26</td>\n",
       "      <td>387.83650</td>\n",
       "      <td>1684540799999</td>\n",
       "      <td>1.042543e+07</td>\n",
       "      <td>13722</td>\n",
       "      <td>189.21350</td>\n",
       "      <td>5.086127e+06</td>\n",
       "      <td>0.0</td>\n",
       "      <td>2023-05-20 07:05:09</td>\n",
       "      <td>2023-05-20 07:05:09</td>\n",
       "    </tr>\n",
       "    <tr>\n",
       "      <th>4623</th>\n",
       "      <td>9265234</td>\n",
       "      <td>410</td>\n",
       "      <td>1684540800000</td>\n",
       "      <td>26880.26</td>\n",
       "      <td>26880.77</td>\n",
       "      <td>26863.00</td>\n",
       "      <td>26880.77</td>\n",
       "      <td>101.95104</td>\n",
       "      <td>1684544399999</td>\n",
       "      <td>2.739900e+06</td>\n",
       "      <td>2258</td>\n",
       "      <td>37.05462</td>\n",
       "      <td>9.958415e+05</td>\n",
       "      <td>0.0</td>\n",
       "      <td>2023-05-20 07:05:09</td>\n",
       "      <td>2023-05-20 07:05:09</td>\n",
       "    </tr>\n",
       "  </tbody>\n",
       "</table>\n",
       "<p>4624 rows × 16 columns</p>\n",
       "</div>"
      ],
      "text/plain": [
       "           id  idCoin       openTime      open      high       low     close  \\\n",
       "0     2850994     410  1667894400000  19796.90  19801.39  19663.03  19729.90   \n",
       "1     2850995     410  1667898000000  19729.90  19794.30  19695.46  19776.33   \n",
       "2     2850996     410  1667901600000  19775.80  19786.31  19649.14  19690.25   \n",
       "3     2850997     410  1667905200000  19690.25  19736.83  19580.33  19699.04   \n",
       "4     2850998     410  1667908800000  19699.04  19746.78  19645.66  19722.32   \n",
       "...       ...     ...            ...       ...       ...       ...       ...   \n",
       "4619  9265230     410  1684526400000  26834.47  26875.81  26807.73  26831.04   \n",
       "4620  9265231     410  1684530000000  26831.03  26906.13  26826.57  26906.12   \n",
       "4621  9265232     410  1684533600000  26906.13  26921.21  26862.18  26871.15   \n",
       "4622  9265233     410  1684537200000  26871.15  26900.00  26864.03  26880.26   \n",
       "4623  9265234     410  1684540800000  26880.26  26880.77  26863.00  26880.77   \n",
       "\n",
       "           volume      closeTime  quoteAssetVolume  numberOfTrader  \\\n",
       "0     18421.65229  1667897999999      3.634725e+08          395167   \n",
       "1     13578.03427  1667901599999      2.682153e+08          298298   \n",
       "2     12789.22464  1667905199999      2.523140e+08          295084   \n",
       "3     16578.59592  1667908799999      3.263770e+08          355567   \n",
       "4     12839.36089  1667912399999      2.529239e+08          314195   \n",
       "...           ...            ...               ...             ...   \n",
       "4619    599.06929  1684529999999      1.607944e+07           19378   \n",
       "4620    556.46863  1684533599999      1.495156e+07           19529   \n",
       "4621    454.80868  1684537199999      1.222681e+07           15341   \n",
       "4622    387.83650  1684540799999      1.042543e+07           13722   \n",
       "4623    101.95104  1684544399999      2.739900e+06            2258   \n",
       "\n",
       "      takerBuyBaseAssetVolume  takerBuyQuoteAssetVolume  ignore  \\\n",
       "0                  8974.26163              1.770740e+08     0.0   \n",
       "1                  6810.67136              1.345414e+08     0.0   \n",
       "2                  6257.13309              1.234495e+08     0.0   \n",
       "3                  8276.39964              1.629394e+08     0.0   \n",
       "4                  6452.47835              1.271169e+08     0.0   \n",
       "...                       ...                       ...     ...   \n",
       "4619                286.71293              7.694954e+06     0.0   \n",
       "4620                305.53001              8.208642e+06     0.0   \n",
       "4621                213.64668              5.743318e+06     0.0   \n",
       "4622                189.21350              5.086127e+06     0.0   \n",
       "4623                 37.05462              9.958415e+05     0.0   \n",
       "\n",
       "               created_at           updated_at  \n",
       "0     2023-05-07 14:23:22  2023-05-07 14:23:22  \n",
       "1     2023-05-07 14:23:22  2023-05-07 14:23:22  \n",
       "2     2023-05-07 14:23:22  2023-05-07 14:23:22  \n",
       "3     2023-05-07 14:23:22  2023-05-07 14:23:22  \n",
       "4     2023-05-07 14:23:22  2023-05-07 14:23:22  \n",
       "...                   ...                  ...  \n",
       "4619  2023-05-20 07:05:09  2023-05-20 07:05:09  \n",
       "4620  2023-05-20 07:05:09  2023-05-20 07:05:09  \n",
       "4621  2023-05-20 07:05:09  2023-05-20 07:05:09  \n",
       "4622  2023-05-20 07:05:09  2023-05-20 07:05:09  \n",
       "4623  2023-05-20 07:05:09  2023-05-20 07:05:09  \n",
       "\n",
       "[4624 rows x 16 columns]"
      ]
     },
     "execution_count": 8,
     "metadata": {},
     "output_type": "execute_result"
    }
   ],
   "source": [
    "df = df.sort_values(by=\"closeTime\", ascending=True)\n",
    "df"
   ]
  },
  {
   "cell_type": "code",
   "execution_count": 9,
   "id": "e8dbf03e",
   "metadata": {},
   "outputs": [
    {
     "data": {
      "text/html": [
       "<div>\n",
       "<style scoped>\n",
       "    .dataframe tbody tr th:only-of-type {\n",
       "        vertical-align: middle;\n",
       "    }\n",
       "\n",
       "    .dataframe tbody tr th {\n",
       "        vertical-align: top;\n",
       "    }\n",
       "\n",
       "    .dataframe thead th {\n",
       "        text-align: right;\n",
       "    }\n",
       "</style>\n",
       "<table border=\"1\" class=\"dataframe\">\n",
       "  <thead>\n",
       "    <tr style=\"text-align: right;\">\n",
       "      <th></th>\n",
       "      <th>close</th>\n",
       "      <th>high</th>\n",
       "      <th>low</th>\n",
       "      <th>open</th>\n",
       "      <th>volume</th>\n",
       "      <th>quoteAssetVolume</th>\n",
       "      <th>numberOfTrader</th>\n",
       "      <th>takerBuyBaseAssetVolume</th>\n",
       "      <th>takerBuyQuoteAssetVolume</th>\n",
       "    </tr>\n",
       "  </thead>\n",
       "  <tbody>\n",
       "    <tr>\n",
       "      <th>0</th>\n",
       "      <td>19729.90</td>\n",
       "      <td>19801.39</td>\n",
       "      <td>19663.03</td>\n",
       "      <td>19796.90</td>\n",
       "      <td>18421.65229</td>\n",
       "      <td>3.634725e+08</td>\n",
       "      <td>395167</td>\n",
       "      <td>8974.26163</td>\n",
       "      <td>1.770740e+08</td>\n",
       "    </tr>\n",
       "    <tr>\n",
       "      <th>1</th>\n",
       "      <td>19776.33</td>\n",
       "      <td>19794.30</td>\n",
       "      <td>19695.46</td>\n",
       "      <td>19729.90</td>\n",
       "      <td>13578.03427</td>\n",
       "      <td>2.682153e+08</td>\n",
       "      <td>298298</td>\n",
       "      <td>6810.67136</td>\n",
       "      <td>1.345414e+08</td>\n",
       "    </tr>\n",
       "    <tr>\n",
       "      <th>2</th>\n",
       "      <td>19690.25</td>\n",
       "      <td>19786.31</td>\n",
       "      <td>19649.14</td>\n",
       "      <td>19775.80</td>\n",
       "      <td>12789.22464</td>\n",
       "      <td>2.523140e+08</td>\n",
       "      <td>295084</td>\n",
       "      <td>6257.13309</td>\n",
       "      <td>1.234495e+08</td>\n",
       "    </tr>\n",
       "    <tr>\n",
       "      <th>3</th>\n",
       "      <td>19699.04</td>\n",
       "      <td>19736.83</td>\n",
       "      <td>19580.33</td>\n",
       "      <td>19690.25</td>\n",
       "      <td>16578.59592</td>\n",
       "      <td>3.263770e+08</td>\n",
       "      <td>355567</td>\n",
       "      <td>8276.39964</td>\n",
       "      <td>1.629394e+08</td>\n",
       "    </tr>\n",
       "    <tr>\n",
       "      <th>4</th>\n",
       "      <td>19722.32</td>\n",
       "      <td>19746.78</td>\n",
       "      <td>19645.66</td>\n",
       "      <td>19699.04</td>\n",
       "      <td>12839.36089</td>\n",
       "      <td>2.529239e+08</td>\n",
       "      <td>314195</td>\n",
       "      <td>6452.47835</td>\n",
       "      <td>1.271169e+08</td>\n",
       "    </tr>\n",
       "    <tr>\n",
       "      <th>...</th>\n",
       "      <td>...</td>\n",
       "      <td>...</td>\n",
       "      <td>...</td>\n",
       "      <td>...</td>\n",
       "      <td>...</td>\n",
       "      <td>...</td>\n",
       "      <td>...</td>\n",
       "      <td>...</td>\n",
       "      <td>...</td>\n",
       "    </tr>\n",
       "    <tr>\n",
       "      <th>4619</th>\n",
       "      <td>26831.04</td>\n",
       "      <td>26875.81</td>\n",
       "      <td>26807.73</td>\n",
       "      <td>26834.47</td>\n",
       "      <td>599.06929</td>\n",
       "      <td>1.607944e+07</td>\n",
       "      <td>19378</td>\n",
       "      <td>286.71293</td>\n",
       "      <td>7.694954e+06</td>\n",
       "    </tr>\n",
       "    <tr>\n",
       "      <th>4620</th>\n",
       "      <td>26906.12</td>\n",
       "      <td>26906.13</td>\n",
       "      <td>26826.57</td>\n",
       "      <td>26831.03</td>\n",
       "      <td>556.46863</td>\n",
       "      <td>1.495156e+07</td>\n",
       "      <td>19529</td>\n",
       "      <td>305.53001</td>\n",
       "      <td>8.208642e+06</td>\n",
       "    </tr>\n",
       "    <tr>\n",
       "      <th>4621</th>\n",
       "      <td>26871.15</td>\n",
       "      <td>26921.21</td>\n",
       "      <td>26862.18</td>\n",
       "      <td>26906.13</td>\n",
       "      <td>454.80868</td>\n",
       "      <td>1.222681e+07</td>\n",
       "      <td>15341</td>\n",
       "      <td>213.64668</td>\n",
       "      <td>5.743318e+06</td>\n",
       "    </tr>\n",
       "    <tr>\n",
       "      <th>4622</th>\n",
       "      <td>26880.26</td>\n",
       "      <td>26900.00</td>\n",
       "      <td>26864.03</td>\n",
       "      <td>26871.15</td>\n",
       "      <td>387.83650</td>\n",
       "      <td>1.042543e+07</td>\n",
       "      <td>13722</td>\n",
       "      <td>189.21350</td>\n",
       "      <td>5.086127e+06</td>\n",
       "    </tr>\n",
       "    <tr>\n",
       "      <th>4623</th>\n",
       "      <td>26880.77</td>\n",
       "      <td>26880.77</td>\n",
       "      <td>26863.00</td>\n",
       "      <td>26880.26</td>\n",
       "      <td>101.95104</td>\n",
       "      <td>2.739900e+06</td>\n",
       "      <td>2258</td>\n",
       "      <td>37.05462</td>\n",
       "      <td>9.958415e+05</td>\n",
       "    </tr>\n",
       "  </tbody>\n",
       "</table>\n",
       "<p>4624 rows × 9 columns</p>\n",
       "</div>"
      ],
      "text/plain": [
       "         close      high       low      open       volume  quoteAssetVolume  \\\n",
       "0     19729.90  19801.39  19663.03  19796.90  18421.65229      3.634725e+08   \n",
       "1     19776.33  19794.30  19695.46  19729.90  13578.03427      2.682153e+08   \n",
       "2     19690.25  19786.31  19649.14  19775.80  12789.22464      2.523140e+08   \n",
       "3     19699.04  19736.83  19580.33  19690.25  16578.59592      3.263770e+08   \n",
       "4     19722.32  19746.78  19645.66  19699.04  12839.36089      2.529239e+08   \n",
       "...        ...       ...       ...       ...          ...               ...   \n",
       "4619  26831.04  26875.81  26807.73  26834.47    599.06929      1.607944e+07   \n",
       "4620  26906.12  26906.13  26826.57  26831.03    556.46863      1.495156e+07   \n",
       "4621  26871.15  26921.21  26862.18  26906.13    454.80868      1.222681e+07   \n",
       "4622  26880.26  26900.00  26864.03  26871.15    387.83650      1.042543e+07   \n",
       "4623  26880.77  26880.77  26863.00  26880.26    101.95104      2.739900e+06   \n",
       "\n",
       "      numberOfTrader  takerBuyBaseAssetVolume  takerBuyQuoteAssetVolume  \n",
       "0             395167               8974.26163              1.770740e+08  \n",
       "1             298298               6810.67136              1.345414e+08  \n",
       "2             295084               6257.13309              1.234495e+08  \n",
       "3             355567               8276.39964              1.629394e+08  \n",
       "4             314195               6452.47835              1.271169e+08  \n",
       "...              ...                      ...                       ...  \n",
       "4619           19378                286.71293              7.694954e+06  \n",
       "4620           19529                305.53001              8.208642e+06  \n",
       "4621           15341                213.64668              5.743318e+06  \n",
       "4622           13722                189.21350              5.086127e+06  \n",
       "4623            2258                 37.05462              9.958415e+05  \n",
       "\n",
       "[4624 rows x 9 columns]"
      ]
     },
     "execution_count": 9,
     "metadata": {},
     "output_type": "execute_result"
    }
   ],
   "source": [
    "df = df[[\"close\", \"high\", \"low\", \"open\", \"volume\", \"quoteAssetVolume\", \"numberOfTrader\", \\\n",
    "                   \"takerBuyBaseAssetVolume\", \"takerBuyQuoteAssetVolume\"]]\n",
    "df"
   ]
  },
  {
   "cell_type": "code",
   "execution_count": 10,
   "id": "69bd0b44",
   "metadata": {},
   "outputs": [
    {
     "name": "stderr",
     "output_type": "stream",
     "text": [
      "C:\\Users\\mirom\\AppData\\Local\\Temp\\ipykernel_15104\\2842289865.py:1: SettingWithCopyWarning: \n",
      "A value is trying to be set on a copy of a slice from a DataFrame.\n",
      "Try using .loc[row_indexer,col_indexer] = value instead\n",
      "\n",
      "See the caveats in the documentation: https://pandas.pydata.org/pandas-docs/stable/user_guide/indexing.html#returning-a-view-versus-a-copy\n",
      "  df[\"label\"] = df.close.shift(-1)\n"
     ]
    },
    {
     "data": {
      "text/html": [
       "<div>\n",
       "<style scoped>\n",
       "    .dataframe tbody tr th:only-of-type {\n",
       "        vertical-align: middle;\n",
       "    }\n",
       "\n",
       "    .dataframe tbody tr th {\n",
       "        vertical-align: top;\n",
       "    }\n",
       "\n",
       "    .dataframe thead th {\n",
       "        text-align: right;\n",
       "    }\n",
       "</style>\n",
       "<table border=\"1\" class=\"dataframe\">\n",
       "  <thead>\n",
       "    <tr style=\"text-align: right;\">\n",
       "      <th></th>\n",
       "      <th>close</th>\n",
       "      <th>high</th>\n",
       "      <th>low</th>\n",
       "      <th>open</th>\n",
       "      <th>volume</th>\n",
       "      <th>quoteAssetVolume</th>\n",
       "      <th>numberOfTrader</th>\n",
       "      <th>takerBuyBaseAssetVolume</th>\n",
       "      <th>takerBuyQuoteAssetVolume</th>\n",
       "      <th>label</th>\n",
       "    </tr>\n",
       "  </thead>\n",
       "  <tbody>\n",
       "    <tr>\n",
       "      <th>0</th>\n",
       "      <td>19729.90</td>\n",
       "      <td>19801.39</td>\n",
       "      <td>19663.03</td>\n",
       "      <td>19796.90</td>\n",
       "      <td>18421.65229</td>\n",
       "      <td>3.634725e+08</td>\n",
       "      <td>395167</td>\n",
       "      <td>8974.26163</td>\n",
       "      <td>1.770740e+08</td>\n",
       "      <td>19776.33</td>\n",
       "    </tr>\n",
       "    <tr>\n",
       "      <th>1</th>\n",
       "      <td>19776.33</td>\n",
       "      <td>19794.30</td>\n",
       "      <td>19695.46</td>\n",
       "      <td>19729.90</td>\n",
       "      <td>13578.03427</td>\n",
       "      <td>2.682153e+08</td>\n",
       "      <td>298298</td>\n",
       "      <td>6810.67136</td>\n",
       "      <td>1.345414e+08</td>\n",
       "      <td>19690.25</td>\n",
       "    </tr>\n",
       "    <tr>\n",
       "      <th>2</th>\n",
       "      <td>19690.25</td>\n",
       "      <td>19786.31</td>\n",
       "      <td>19649.14</td>\n",
       "      <td>19775.80</td>\n",
       "      <td>12789.22464</td>\n",
       "      <td>2.523140e+08</td>\n",
       "      <td>295084</td>\n",
       "      <td>6257.13309</td>\n",
       "      <td>1.234495e+08</td>\n",
       "      <td>19699.04</td>\n",
       "    </tr>\n",
       "    <tr>\n",
       "      <th>3</th>\n",
       "      <td>19699.04</td>\n",
       "      <td>19736.83</td>\n",
       "      <td>19580.33</td>\n",
       "      <td>19690.25</td>\n",
       "      <td>16578.59592</td>\n",
       "      <td>3.263770e+08</td>\n",
       "      <td>355567</td>\n",
       "      <td>8276.39964</td>\n",
       "      <td>1.629394e+08</td>\n",
       "      <td>19722.32</td>\n",
       "    </tr>\n",
       "    <tr>\n",
       "      <th>4</th>\n",
       "      <td>19722.32</td>\n",
       "      <td>19746.78</td>\n",
       "      <td>19645.66</td>\n",
       "      <td>19699.04</td>\n",
       "      <td>12839.36089</td>\n",
       "      <td>2.529239e+08</td>\n",
       "      <td>314195</td>\n",
       "      <td>6452.47835</td>\n",
       "      <td>1.271169e+08</td>\n",
       "      <td>19554.76</td>\n",
       "    </tr>\n",
       "    <tr>\n",
       "      <th>...</th>\n",
       "      <td>...</td>\n",
       "      <td>...</td>\n",
       "      <td>...</td>\n",
       "      <td>...</td>\n",
       "      <td>...</td>\n",
       "      <td>...</td>\n",
       "      <td>...</td>\n",
       "      <td>...</td>\n",
       "      <td>...</td>\n",
       "      <td>...</td>\n",
       "    </tr>\n",
       "    <tr>\n",
       "      <th>4618</th>\n",
       "      <td>26834.46</td>\n",
       "      <td>26890.81</td>\n",
       "      <td>26780.73</td>\n",
       "      <td>26890.80</td>\n",
       "      <td>1018.50532</td>\n",
       "      <td>2.732928e+07</td>\n",
       "      <td>28862</td>\n",
       "      <td>464.08044</td>\n",
       "      <td>1.245213e+07</td>\n",
       "      <td>26831.04</td>\n",
       "    </tr>\n",
       "    <tr>\n",
       "      <th>4619</th>\n",
       "      <td>26831.04</td>\n",
       "      <td>26875.81</td>\n",
       "      <td>26807.73</td>\n",
       "      <td>26834.47</td>\n",
       "      <td>599.06929</td>\n",
       "      <td>1.607944e+07</td>\n",
       "      <td>19378</td>\n",
       "      <td>286.71293</td>\n",
       "      <td>7.694954e+06</td>\n",
       "      <td>26906.12</td>\n",
       "    </tr>\n",
       "    <tr>\n",
       "      <th>4620</th>\n",
       "      <td>26906.12</td>\n",
       "      <td>26906.13</td>\n",
       "      <td>26826.57</td>\n",
       "      <td>26831.03</td>\n",
       "      <td>556.46863</td>\n",
       "      <td>1.495156e+07</td>\n",
       "      <td>19529</td>\n",
       "      <td>305.53001</td>\n",
       "      <td>8.208642e+06</td>\n",
       "      <td>26871.15</td>\n",
       "    </tr>\n",
       "    <tr>\n",
       "      <th>4621</th>\n",
       "      <td>26871.15</td>\n",
       "      <td>26921.21</td>\n",
       "      <td>26862.18</td>\n",
       "      <td>26906.13</td>\n",
       "      <td>454.80868</td>\n",
       "      <td>1.222681e+07</td>\n",
       "      <td>15341</td>\n",
       "      <td>213.64668</td>\n",
       "      <td>5.743318e+06</td>\n",
       "      <td>26880.26</td>\n",
       "    </tr>\n",
       "    <tr>\n",
       "      <th>4622</th>\n",
       "      <td>26880.26</td>\n",
       "      <td>26900.00</td>\n",
       "      <td>26864.03</td>\n",
       "      <td>26871.15</td>\n",
       "      <td>387.83650</td>\n",
       "      <td>1.042543e+07</td>\n",
       "      <td>13722</td>\n",
       "      <td>189.21350</td>\n",
       "      <td>5.086127e+06</td>\n",
       "      <td>26880.77</td>\n",
       "    </tr>\n",
       "  </tbody>\n",
       "</table>\n",
       "<p>4623 rows × 10 columns</p>\n",
       "</div>"
      ],
      "text/plain": [
       "         close      high       low      open       volume  quoteAssetVolume  \\\n",
       "0     19729.90  19801.39  19663.03  19796.90  18421.65229      3.634725e+08   \n",
       "1     19776.33  19794.30  19695.46  19729.90  13578.03427      2.682153e+08   \n",
       "2     19690.25  19786.31  19649.14  19775.80  12789.22464      2.523140e+08   \n",
       "3     19699.04  19736.83  19580.33  19690.25  16578.59592      3.263770e+08   \n",
       "4     19722.32  19746.78  19645.66  19699.04  12839.36089      2.529239e+08   \n",
       "...        ...       ...       ...       ...          ...               ...   \n",
       "4618  26834.46  26890.81  26780.73  26890.80   1018.50532      2.732928e+07   \n",
       "4619  26831.04  26875.81  26807.73  26834.47    599.06929      1.607944e+07   \n",
       "4620  26906.12  26906.13  26826.57  26831.03    556.46863      1.495156e+07   \n",
       "4621  26871.15  26921.21  26862.18  26906.13    454.80868      1.222681e+07   \n",
       "4622  26880.26  26900.00  26864.03  26871.15    387.83650      1.042543e+07   \n",
       "\n",
       "      numberOfTrader  takerBuyBaseAssetVolume  takerBuyQuoteAssetVolume  \\\n",
       "0             395167               8974.26163              1.770740e+08   \n",
       "1             298298               6810.67136              1.345414e+08   \n",
       "2             295084               6257.13309              1.234495e+08   \n",
       "3             355567               8276.39964              1.629394e+08   \n",
       "4             314195               6452.47835              1.271169e+08   \n",
       "...              ...                      ...                       ...   \n",
       "4618           28862                464.08044              1.245213e+07   \n",
       "4619           19378                286.71293              7.694954e+06   \n",
       "4620           19529                305.53001              8.208642e+06   \n",
       "4621           15341                213.64668              5.743318e+06   \n",
       "4622           13722                189.21350              5.086127e+06   \n",
       "\n",
       "         label  \n",
       "0     19776.33  \n",
       "1     19690.25  \n",
       "2     19699.04  \n",
       "3     19722.32  \n",
       "4     19554.76  \n",
       "...        ...  \n",
       "4618  26831.04  \n",
       "4619  26906.12  \n",
       "4620  26871.15  \n",
       "4621  26880.26  \n",
       "4622  26880.77  \n",
       "\n",
       "[4623 rows x 10 columns]"
      ]
     },
     "execution_count": 10,
     "metadata": {},
     "output_type": "execute_result"
    }
   ],
   "source": [
    "df[\"label\"] = df.close.shift(-1)\n",
    "X_last = df.iloc[-1, :-1].values\n",
    "df = df.dropna()\n",
    "df"
   ]
  },
  {
   "cell_type": "markdown",
   "id": "9758aedd",
   "metadata": {},
   "source": [
    "# normalize data"
   ]
  },
  {
   "cell_type": "code",
   "execution_count": 11,
   "id": "04fc65b9",
   "metadata": {},
   "outputs": [],
   "source": [
    "scalerX = MinMaxScaler()\n",
    "scalerY = MinMaxScaler()\n",
    "X_prepared = scalerX.fit_transform(df.drop(columns=\"label\"))\n",
    "y_prepared = scalerY.fit_transform(df.label.values.reshape(-1, 1))"
   ]
  },
  {
   "cell_type": "markdown",
   "id": "8a39afcf",
   "metadata": {},
   "source": [
    "# split train test"
   ]
  },
  {
   "cell_type": "code",
   "execution_count": 12,
   "id": "62d2ccbf",
   "metadata": {},
   "outputs": [
    {
     "data": {
      "text/plain": [
       "((4575, 9), (48, 9))"
      ]
     },
     "execution_count": 12,
     "metadata": {},
     "output_type": "execute_result"
    }
   ],
   "source": [
    "train_idxs = X_prepared.shape[0] - CFG.n_predicts\n",
    "X_train, X_test = X_prepared[:train_idxs, :], X_prepared[train_idxs:, :]\n",
    "y_train, y_test = y_prepared[:train_idxs, :], y_prepared[train_idxs:, :]\n",
    "\n",
    "X_train.shape, X_test.shape"
   ]
  },
  {
   "cell_type": "code",
   "execution_count": 13,
   "id": "4948cb70",
   "metadata": {},
   "outputs": [
    {
     "data": {
      "text/plain": [
       "((4575, 1, 9), (48, 1, 9))"
      ]
     },
     "execution_count": 13,
     "metadata": {},
     "output_type": "execute_result"
    }
   ],
   "source": [
    "X_train = np.expand_dims(X_train, 1)\n",
    "X_test = np.expand_dims(X_test, 1)\n",
    "\n",
    "X_train.shape, X_test.shape"
   ]
  },
  {
   "cell_type": "markdown",
   "id": "e100754e",
   "metadata": {},
   "source": [
    "# Keras model"
   ]
  },
  {
   "cell_type": "code",
   "execution_count": 14,
   "id": "d2467f1b",
   "metadata": {},
   "outputs": [],
   "source": [
    "units = 64\n",
    "n_hours = 1\n",
    "n_time_predicts = 2 * 24\n",
    "epochs = 50\n",
    "batch_size = 128\n",
    "verbose = 0\n",
    "min_delta = 1e-15\n",
    "patience = 30\n",
    "monitor = 'val_loss'"
   ]
  },
  {
   "cell_type": "code",
   "execution_count": 15,
   "id": "6890632b",
   "metadata": {},
   "outputs": [],
   "source": [
    "model = Sequential()\n",
    "model.add(LSTM(units,input_shape=(X_train.shape[1], X_train.shape[2]), return_sequences=True))\n",
    "model.add(LSTM(units))\n",
    "model.add(Dense(1))\n",
    "model.compile(loss='mse', optimizer='adam')"
   ]
  },
  {
   "cell_type": "markdown",
   "id": "735d1242",
   "metadata": {},
   "source": [
    "# model training"
   ]
  },
  {
   "cell_type": "code",
   "execution_count": 16,
   "id": "7ef375ff",
   "metadata": {},
   "outputs": [
    {
     "data": {
      "text/plain": [
       "<keras.callbacks.History at 0x2625472aa30>"
      ]
     },
     "execution_count": 16,
     "metadata": {},
     "output_type": "execute_result"
    }
   ],
   "source": [
    "model.fit(X_train, y_train, epochs=epochs, batch_size=batch_size, verbose=verbose, shuffle=False, validation_data=(X_test, y_test),\n",
    "    callbacks = [EarlyStopping(monitor=monitor, min_delta=min_delta, patience=patience)])"
   ]
  },
  {
   "cell_type": "code",
   "execution_count": 17,
   "id": "14b534eb",
   "metadata": {},
   "outputs": [
    {
     "name": "stdout",
     "output_type": "stream",
     "text": [
      "143/143 [==============================] - 1s 1ms/step\n",
      "2/2 [==============================] - 0s 0s/step\n"
     ]
    }
   ],
   "source": [
    "y_train_hat = model.predict(X_train)\n",
    "y_test_hat = model.predict(X_test)"
   ]
  },
  {
   "cell_type": "code",
   "execution_count": 18,
   "id": "8fb70d21",
   "metadata": {},
   "outputs": [
    {
     "data": {
      "text/plain": [
       "Text(0, 0.5, 'USD ($)')"
      ]
     },
     "execution_count": 18,
     "metadata": {},
     "output_type": "execute_result"
    },
    {
     "data": {
      "image/png": "[encoded data removed]",
      "text/plain": [
       "<Figure size 640x480 with 1 Axes>"
      ]
     },
     "metadata": {},
     "output_type": "display_data"
    }
   ],
   "source": [
    "# training fig\n",
    "y_train_back = scalerY.inverse_transform(y_train)\n",
    "y_train_hat_back = scalerY.inverse_transform(y_train_hat)\n",
    "\n",
    "plt.plot(y_train_back, c='b', label=\"test\",)\n",
    "plt.plot(y_train_hat_back, c='r', label=\"predict\")\n",
    "\n",
    "plt.ylabel(\"USD ($)\")"
   ]
  },
  {
   "cell_type": "code",
   "execution_count": 19,
   "id": "b94aac7b",
   "metadata": {},
   "outputs": [
    {
     "data": {
      "text/plain": [
       "Text(0, 0.5, 'USD ($)')"
      ]
     },
     "execution_count": 19,
     "metadata": {},
     "output_type": "execute_result"
    },
    {
     "data": {
      "image/png": "[encoded data removed]",
      "text/plain": [
       "<Figure size 640x480 with 1 Axes>"
      ]
     },
     "metadata": {},
     "output_type": "display_data"
    }
   ],
   "source": [
    "# testing fig\n",
    "y_test_back = scalerY.inverse_transform(y_test)\n",
    "y_test_hat_back = scalerY.inverse_transform(y_test_hat)\n",
    "\n",
    "plt.plot(y_test_back, c='b', label=\"test\",)\n",
    "plt.plot(y_test_hat_back, c='r', label=\"predict\")\n",
    "\n",
    "plt.ylabel(\"USD ($)\")"
   ]
  },
  {
   "cell_type": "code",
   "execution_count": 20,
   "id": "551d9b35",
   "metadata": {},
   "outputs": [
    {
     "data": {
      "text/plain": [
       "(48, 1, 9)"
      ]
     },
     "execution_count": 20,
     "metadata": {},
     "output_type": "execute_result"
    }
   ],
   "source": [
    "X_test.shape"
   ]
  },
  {
   "cell_type": "code",
   "execution_count": 21,
   "id": "67df240c",
   "metadata": {},
   "outputs": [
    {
     "name": "stderr",
     "output_type": "stream",
     "text": [
      "C:\\Users\\mirom\\anaconda3\\lib\\site-packages\\sklearn\\base.py:450: UserWarning: X does not have valid feature names, but MinMaxScaler was fitted with feature names\n",
      "  warnings.warn(\n"
     ]
    }
   ],
   "source": [
    "X_last_prepared = scalerX.transform(X_last.reshape(1, -1))\n",
    "X_last_prepared = np.expand_dims(X_last_prepared, 1)"
   ]
  },
  {
   "cell_type": "code",
   "execution_count": 22,
   "id": "7cc50784",
   "metadata": {},
   "outputs": [
    {
     "name": "stdout",
     "output_type": "stream",
     "text": [
      "1/1 [==============================] - 0s 16ms/step\n"
     ]
    }
   ],
   "source": [
    "y_last = model.predict(X_last_prepared)\n",
    "y_last_back = scalerY.inverse_transform(y_last)\n"
   ]
  },
  {
   "cell_type": "code",
   "execution_count": 23,
   "id": "9d9f87f3",
   "metadata": {},
   "outputs": [],
   "source": [
    "y_test_hat_df = pd.DataFrame(y_test_hat_back).reset_index()\n",
    "y_test_hat_df.index = y_test_hat_df.index.astype(\"int\")\n",
    "y_test_hat_plot = y_test_hat_df.values.tolist()\n",
    "\n",
    "y_last_plot = [y_test_hat_plot[-1]]\n",
    "y_last_plot.append([len(y_test_hat_plot), y_last_back.item()])"
   ]
  },
  {
   "cell_type": "code",
   "execution_count": 24,
   "id": "789e0e69",
   "metadata": {},
   "outputs": [
    {
     "data": {
      "image/png": "[encoded data removed]",
      "text/plain": [
       "<Figure size 640x480 with 1 Axes>"
      ]
     },
     "metadata": {},
     "output_type": "display_data"
    }
   ],
   "source": [
    "import pylab as pl\n",
    "from matplotlib import collections  as mc\n",
    "\n",
    "lines = [y_test_hat_plot[-10:], y_last_plot]\n",
    "\n",
    "lc = mc.LineCollection(lines, colors=['b', 'r'], linestyle=['-', '--'])\n",
    "fig, ax = pl.subplots()\n",
    "ax.add_collection(lc)\n",
    "ax.autoscale()\n",
    "ax.margins(0.1)"
   ]
  },
  {
   "cell_type": "markdown",
   "id": "26fda567",
   "metadata": {},
   "source": [
    "# export json"
   ]
  },
  {
   "cell_type": "code",
   "execution_count": 25,
   "id": "8217ffed",
   "metadata": {},
   "outputs": [
    {
     "data": {
      "text/plain": [
       "26629.841796875"
      ]
     },
     "execution_count": 25,
     "metadata": {},
     "output_type": "execute_result"
    }
   ],
   "source": [
    "y_last_back.item()"
   ]
  },
  {
   "cell_type": "code",
   "execution_count": 31,
   "id": "63496407",
   "metadata": {},
   "outputs": [],
   "source": [
    "data = {\n",
    "    \"openPrice\": df.close.values[-1],\n",
    "    \"predictPrice\": round(y_last_back.item(), 2)\n",
    "  }"
   ]
  },
  {
   "cell_type": "code",
   "execution_count": 34,
   "id": "591ce856",
   "metadata": {},
   "outputs": [],
   "source": [
    "import json\n",
    "with open('../parimutuel-ts-project/src/components/predict_1hour.json', 'w') as f:\n",
    "    json.dump(data, f)"
   ]
  },
  {
   "cell_type": "code",
   "execution_count": 30,
   "id": "529adff8",
   "metadata": {},
   "outputs": [
    {
     "data": {
      "text/plain": [
       "26629.84"
      ]
     },
     "execution_count": 30,
     "metadata": {},
     "output_type": "execute_result"
    }
   ],
   "source": [
    "round(y_last_back.item(), 2)"
   ]
  },
  {
   "cell_type": "code",
   "execution_count": null,
   "id": "aa2e477e",
   "metadata": {},
   "outputs": [],
   "source": []
  }
 ],
 "metadata": {
  "kernelspec": {
   "display_name": "Python 3 (ipykernel)",
   "language": "python",
   "name": "python3"
  },
  "language_info": {
   "codemirror_mode": {
    "name": "ipython",
    "version": 3
   },
   "file_extension": ".py",
   "mimetype": "text/x-python",
   "name": "python",
   "nbconvert_exporter": "python",
   "pygments_lexer": "ipython3",
   "version": "3.9.13"
  }
 },
 "nbformat": 4,
 "nbformat_minor": 5
}
