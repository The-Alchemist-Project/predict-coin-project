{
 "cells": [
  {
   "cell_type": "code",
   "execution_count": 1,
   "id": "9650bea3",
   "metadata": {},
   "outputs": [],
   "source": [
    "import time\n",
    "from datetime import datetime, timedelta\n",
    "import pandas as pd\n",
    "import numpy as np\n",
    "import matplotlib.pyplot as plt\n",
    "\n",
    "from sklearn.preprocessing import MinMaxScaler\n",
    "from sklearn.metrics import mean_squared_error\n",
    "from keras.models import Sequential\n",
    "from keras.layers import Dense\n",
    "from keras.layers import LSTM\n",
    "from keras.callbacks import EarlyStopping\n",
    "\n",
    "from binance import Client\n",
    "\n",
    "client = Client()"
   ]
  },
  {
   "cell_type": "code",
   "execution_count": 2,
   "id": "5ac979e5",
   "metadata": {},
   "outputs": [],
   "source": [
    "# global config\n",
    "n_predicts = 48\n",
    "symbol = \"BTCUSDT\"\n",
    "interval = client.KLINE_INTERVAL_1HOUR\n",
    "data_lim = 6 * 30 * 24 # 1 hour in 6 months\n",
    "# start = int(time.time() - data_lim * 3600)\n",
    "\n",
    "start = int((datetime.today() - timedelta(days=30)).timestamp()*1000)"
   ]
  },
  {
   "cell_type": "code",
   "execution_count": 3,
   "id": "5fe3f1da",
   "metadata": {},
   "outputs": [],
   "source": [
    "# dataframe use for saving data\n",
    "\n",
    "cols = [\"openTime\", \"open\", \"high\", \"low\", \"close\",\n",
    "        \"volume\", \"closeTime\", \"quoteAssetVolume\", \"numberOfTrader\",\n",
    "        \"takerBuyBaseAssetVolume\", \"takerBuyQuoteAssetVolume\", \"ignore\"]\n",
    "df = pd.DataFrame(columns=cols)"
   ]
  },
  {
   "cell_type": "code",
   "execution_count": 4,
   "id": "df5fea9d",
   "metadata": {},
   "outputs": [],
   "source": [
    "klines = client.get_klines(symbol=symbol, interval=interval, startTime=start, limit=1000)"
   ]
  },
  {
   "cell_type": "code",
   "execution_count": 5,
   "id": "2f4fa87d",
   "metadata": {},
   "outputs": [],
   "source": [
    "for kline in klines:\n",
    "    df.loc[len(df)] = kline\n",
    "\n",
    "# df = pd.read_csv(\"BTC_USDT.csv\")"
   ]
  },
  {
   "cell_type": "code",
   "execution_count": 6,
   "id": "25996b58",
   "metadata": {},
   "outputs": [
    {
     "data": {
      "text/html": [
       "<div>\n",
       "<style scoped>\n",
       "    .dataframe tbody tr th:only-of-type {\n",
       "        vertical-align: middle;\n",
       "    }\n",
       "\n",
       "    .dataframe tbody tr th {\n",
       "        vertical-align: top;\n",
       "    }\n",
       "\n",
       "    .dataframe thead th {\n",
       "        text-align: right;\n",
       "    }\n",
       "</style>\n",
       "<table border=\"1\" class=\"dataframe\">\n",
       "  <thead>\n",
       "    <tr style=\"text-align: right;\">\n",
       "      <th></th>\n",
       "      <th>openTime</th>\n",
       "      <th>open</th>\n",
       "      <th>high</th>\n",
       "      <th>low</th>\n",
       "      <th>close</th>\n",
       "      <th>volume</th>\n",
       "      <th>closeTime</th>\n",
       "      <th>quoteAssetVolume</th>\n",
       "      <th>numberOfTrader</th>\n",
       "      <th>takerBuyBaseAssetVolume</th>\n",
       "      <th>takerBuyQuoteAssetVolume</th>\n",
       "      <th>ignore</th>\n",
       "    </tr>\n",
       "  </thead>\n",
       "  <tbody>\n",
       "    <tr>\n",
       "      <th>0</th>\n",
       "      <td>1682060400000</td>\n",
       "      <td>27916.87000000</td>\n",
       "      <td>28173.94000000</td>\n",
       "      <td>27839.31000000</td>\n",
       "      <td>28155.03000000</td>\n",
       "      <td>5443.96189000</td>\n",
       "      <td>1682063999999</td>\n",
       "      <td>152355493.13394260</td>\n",
       "      <td>89015</td>\n",
       "      <td>3122.80075000</td>\n",
       "      <td>87403055.52622060</td>\n",
       "      <td>0</td>\n",
       "    </tr>\n",
       "    <tr>\n",
       "      <th>1</th>\n",
       "      <td>1682064000000</td>\n",
       "      <td>28155.02000000</td>\n",
       "      <td>28237.30000000</td>\n",
       "      <td>28015.71000000</td>\n",
       "      <td>28071.90000000</td>\n",
       "      <td>2847.93515000</td>\n",
       "      <td>1682067599999</td>\n",
       "      <td>80064735.18189570</td>\n",
       "      <td>57792</td>\n",
       "      <td>1389.19303000</td>\n",
       "      <td>39057693.08022460</td>\n",
       "      <td>0</td>\n",
       "    </tr>\n",
       "    <tr>\n",
       "      <th>2</th>\n",
       "      <td>1682067600000</td>\n",
       "      <td>28071.89000000</td>\n",
       "      <td>28112.50000000</td>\n",
       "      <td>27967.09000000</td>\n",
       "      <td>28060.85000000</td>\n",
       "      <td>1945.42052000</td>\n",
       "      <td>1682071199999</td>\n",
       "      <td>54560381.19529480</td>\n",
       "      <td>37520</td>\n",
       "      <td>851.81226000</td>\n",
       "      <td>23889305.67887860</td>\n",
       "      <td>0</td>\n",
       "    </tr>\n",
       "    <tr>\n",
       "      <th>3</th>\n",
       "      <td>1682071200000</td>\n",
       "      <td>28060.85000000</td>\n",
       "      <td>28152.62000000</td>\n",
       "      <td>27936.80000000</td>\n",
       "      <td>28001.96000000</td>\n",
       "      <td>2090.75767000</td>\n",
       "      <td>1682074799999</td>\n",
       "      <td>58652886.13923020</td>\n",
       "      <td>42506</td>\n",
       "      <td>997.57601000</td>\n",
       "      <td>27987915.97858730</td>\n",
       "      <td>0</td>\n",
       "    </tr>\n",
       "    <tr>\n",
       "      <th>4</th>\n",
       "      <td>1682074800000</td>\n",
       "      <td>28001.96000000</td>\n",
       "      <td>28093.55000000</td>\n",
       "      <td>27919.69000000</td>\n",
       "      <td>28066.21000000</td>\n",
       "      <td>2602.24007000</td>\n",
       "      <td>1682078399999</td>\n",
       "      <td>72880442.44866950</td>\n",
       "      <td>45978</td>\n",
       "      <td>1336.73757000</td>\n",
       "      <td>37437351.66433840</td>\n",
       "      <td>0</td>\n",
       "    </tr>\n",
       "    <tr>\n",
       "      <th>...</th>\n",
       "      <td>...</td>\n",
       "      <td>...</td>\n",
       "      <td>...</td>\n",
       "      <td>...</td>\n",
       "      <td>...</td>\n",
       "      <td>...</td>\n",
       "      <td>...</td>\n",
       "      <td>...</td>\n",
       "      <td>...</td>\n",
       "      <td>...</td>\n",
       "      <td>...</td>\n",
       "      <td>...</td>\n",
       "    </tr>\n",
       "    <tr>\n",
       "      <th>715</th>\n",
       "      <td>1684634400000</td>\n",
       "      <td>27158.79000000</td>\n",
       "      <td>27191.04000000</td>\n",
       "      <td>27145.59000000</td>\n",
       "      <td>27168.54000000</td>\n",
       "      <td>544.77241000</td>\n",
       "      <td>1684637999999</td>\n",
       "      <td>14800056.38030100</td>\n",
       "      <td>15834</td>\n",
       "      <td>262.35711000</td>\n",
       "      <td>7127870.93974070</td>\n",
       "      <td>0</td>\n",
       "    </tr>\n",
       "    <tr>\n",
       "      <th>716</th>\n",
       "      <td>1684638000000</td>\n",
       "      <td>27168.53000000</td>\n",
       "      <td>27191.10000000</td>\n",
       "      <td>27156.60000000</td>\n",
       "      <td>27176.22000000</td>\n",
       "      <td>367.38889000</td>\n",
       "      <td>1684641599999</td>\n",
       "      <td>9982480.46233760</td>\n",
       "      <td>18654</td>\n",
       "      <td>163.72142000</td>\n",
       "      <td>4448488.69419540</td>\n",
       "      <td>0</td>\n",
       "    </tr>\n",
       "    <tr>\n",
       "      <th>717</th>\n",
       "      <td>1684641600000</td>\n",
       "      <td>27176.22000000</td>\n",
       "      <td>27176.22000000</td>\n",
       "      <td>27118.00000000</td>\n",
       "      <td>27129.32000000</td>\n",
       "      <td>462.73225000</td>\n",
       "      <td>1684645199999</td>\n",
       "      <td>12565739.13290840</td>\n",
       "      <td>16080</td>\n",
       "      <td>183.96387000</td>\n",
       "      <td>4995565.20457170</td>\n",
       "      <td>0</td>\n",
       "    </tr>\n",
       "    <tr>\n",
       "      <th>718</th>\n",
       "      <td>1684645200000</td>\n",
       "      <td>27129.32000000</td>\n",
       "      <td>27138.34000000</td>\n",
       "      <td>27089.74000000</td>\n",
       "      <td>27098.85000000</td>\n",
       "      <td>668.41698000</td>\n",
       "      <td>1684648799999</td>\n",
       "      <td>18123694.65053080</td>\n",
       "      <td>15642</td>\n",
       "      <td>304.01727000</td>\n",
       "      <td>8242668.57337380</td>\n",
       "      <td>0</td>\n",
       "    </tr>\n",
       "    <tr>\n",
       "      <th>719</th>\n",
       "      <td>1684648800000</td>\n",
       "      <td>27098.84000000</td>\n",
       "      <td>27103.00000000</td>\n",
       "      <td>27080.00000000</td>\n",
       "      <td>27080.38000000</td>\n",
       "      <td>151.33064000</td>\n",
       "      <td>1684652399999</td>\n",
       "      <td>4099983.56714880</td>\n",
       "      <td>4833</td>\n",
       "      <td>63.85187000</td>\n",
       "      <td>1729895.45215730</td>\n",
       "      <td>0</td>\n",
       "    </tr>\n",
       "  </tbody>\n",
       "</table>\n",
       "<p>720 rows × 12 columns</p>\n",
       "</div>"
      ],
      "text/plain": [
       "          openTime            open            high             low  \\\n",
       "0    1682060400000  27916.87000000  28173.94000000  27839.31000000   \n",
       "1    1682064000000  28155.02000000  28237.30000000  28015.71000000   \n",
       "2    1682067600000  28071.89000000  28112.50000000  27967.09000000   \n",
       "3    1682071200000  28060.85000000  28152.62000000  27936.80000000   \n",
       "4    1682074800000  28001.96000000  28093.55000000  27919.69000000   \n",
       "..             ...             ...             ...             ...   \n",
       "715  1684634400000  27158.79000000  27191.04000000  27145.59000000   \n",
       "716  1684638000000  27168.53000000  27191.10000000  27156.60000000   \n",
       "717  1684641600000  27176.22000000  27176.22000000  27118.00000000   \n",
       "718  1684645200000  27129.32000000  27138.34000000  27089.74000000   \n",
       "719  1684648800000  27098.84000000  27103.00000000  27080.00000000   \n",
       "\n",
       "              close         volume      closeTime    quoteAssetVolume  \\\n",
       "0    28155.03000000  5443.96189000  1682063999999  152355493.13394260   \n",
       "1    28071.90000000  2847.93515000  1682067599999   80064735.18189570   \n",
       "2    28060.85000000  1945.42052000  1682071199999   54560381.19529480   \n",
       "3    28001.96000000  2090.75767000  1682074799999   58652886.13923020   \n",
       "4    28066.21000000  2602.24007000  1682078399999   72880442.44866950   \n",
       "..              ...            ...            ...                 ...   \n",
       "715  27168.54000000   544.77241000  1684637999999   14800056.38030100   \n",
       "716  27176.22000000   367.38889000  1684641599999    9982480.46233760   \n",
       "717  27129.32000000   462.73225000  1684645199999   12565739.13290840   \n",
       "718  27098.85000000   668.41698000  1684648799999   18123694.65053080   \n",
       "719  27080.38000000   151.33064000  1684652399999    4099983.56714880   \n",
       "\n",
       "     numberOfTrader takerBuyBaseAssetVolume takerBuyQuoteAssetVolume ignore  \n",
       "0             89015           3122.80075000        87403055.52622060      0  \n",
       "1             57792           1389.19303000        39057693.08022460      0  \n",
       "2             37520            851.81226000        23889305.67887860      0  \n",
       "3             42506            997.57601000        27987915.97858730      0  \n",
       "4             45978           1336.73757000        37437351.66433840      0  \n",
       "..              ...                     ...                      ...    ...  \n",
       "715           15834            262.35711000         7127870.93974070      0  \n",
       "716           18654            163.72142000         4448488.69419540      0  \n",
       "717           16080            183.96387000         4995565.20457170      0  \n",
       "718           15642            304.01727000         8242668.57337380      0  \n",
       "719            4833             63.85187000         1729895.45215730      0  \n",
       "\n",
       "[720 rows x 12 columns]"
      ]
     },
     "execution_count": 6,
     "metadata": {},
     "output_type": "execute_result"
    }
   ],
   "source": [
    "df = df.sort_values(by=\"closeTime\", ascending=True)\n",
    "df"
   ]
  },
  {
   "cell_type": "code",
   "execution_count": 7,
   "id": "e8dbf03e",
   "metadata": {},
   "outputs": [
    {
     "data": {
      "text/html": [
       "<div>\n",
       "<style scoped>\n",
       "    .dataframe tbody tr th:only-of-type {\n",
       "        vertical-align: middle;\n",
       "    }\n",
       "\n",
       "    .dataframe tbody tr th {\n",
       "        vertical-align: top;\n",
       "    }\n",
       "\n",
       "    .dataframe thead th {\n",
       "        text-align: right;\n",
       "    }\n",
       "</style>\n",
       "<table border=\"1\" class=\"dataframe\">\n",
       "  <thead>\n",
       "    <tr style=\"text-align: right;\">\n",
       "      <th></th>\n",
       "      <th>close</th>\n",
       "      <th>high</th>\n",
       "      <th>low</th>\n",
       "      <th>open</th>\n",
       "      <th>volume</th>\n",
       "      <th>quoteAssetVolume</th>\n",
       "      <th>numberOfTrader</th>\n",
       "      <th>takerBuyBaseAssetVolume</th>\n",
       "      <th>takerBuyQuoteAssetVolume</th>\n",
       "    </tr>\n",
       "  </thead>\n",
       "  <tbody>\n",
       "    <tr>\n",
       "      <th>0</th>\n",
       "      <td>28155.03000000</td>\n",
       "      <td>28173.94000000</td>\n",
       "      <td>27839.31000000</td>\n",
       "      <td>27916.87000000</td>\n",
       "      <td>5443.96189000</td>\n",
       "      <td>152355493.13394260</td>\n",
       "      <td>89015</td>\n",
       "      <td>3122.80075000</td>\n",
       "      <td>87403055.52622060</td>\n",
       "    </tr>\n",
       "    <tr>\n",
       "      <th>1</th>\n",
       "      <td>28071.90000000</td>\n",
       "      <td>28237.30000000</td>\n",
       "      <td>28015.71000000</td>\n",
       "      <td>28155.02000000</td>\n",
       "      <td>2847.93515000</td>\n",
       "      <td>80064735.18189570</td>\n",
       "      <td>57792</td>\n",
       "      <td>1389.19303000</td>\n",
       "      <td>39057693.08022460</td>\n",
       "    </tr>\n",
       "    <tr>\n",
       "      <th>2</th>\n",
       "      <td>28060.85000000</td>\n",
       "      <td>28112.50000000</td>\n",
       "      <td>27967.09000000</td>\n",
       "      <td>28071.89000000</td>\n",
       "      <td>1945.42052000</td>\n",
       "      <td>54560381.19529480</td>\n",
       "      <td>37520</td>\n",
       "      <td>851.81226000</td>\n",
       "      <td>23889305.67887860</td>\n",
       "    </tr>\n",
       "    <tr>\n",
       "      <th>3</th>\n",
       "      <td>28001.96000000</td>\n",
       "      <td>28152.62000000</td>\n",
       "      <td>27936.80000000</td>\n",
       "      <td>28060.85000000</td>\n",
       "      <td>2090.75767000</td>\n",
       "      <td>58652886.13923020</td>\n",
       "      <td>42506</td>\n",
       "      <td>997.57601000</td>\n",
       "      <td>27987915.97858730</td>\n",
       "    </tr>\n",
       "    <tr>\n",
       "      <th>4</th>\n",
       "      <td>28066.21000000</td>\n",
       "      <td>28093.55000000</td>\n",
       "      <td>27919.69000000</td>\n",
       "      <td>28001.96000000</td>\n",
       "      <td>2602.24007000</td>\n",
       "      <td>72880442.44866950</td>\n",
       "      <td>45978</td>\n",
       "      <td>1336.73757000</td>\n",
       "      <td>37437351.66433840</td>\n",
       "    </tr>\n",
       "    <tr>\n",
       "      <th>...</th>\n",
       "      <td>...</td>\n",
       "      <td>...</td>\n",
       "      <td>...</td>\n",
       "      <td>...</td>\n",
       "      <td>...</td>\n",
       "      <td>...</td>\n",
       "      <td>...</td>\n",
       "      <td>...</td>\n",
       "      <td>...</td>\n",
       "    </tr>\n",
       "    <tr>\n",
       "      <th>715</th>\n",
       "      <td>27168.54000000</td>\n",
       "      <td>27191.04000000</td>\n",
       "      <td>27145.59000000</td>\n",
       "      <td>27158.79000000</td>\n",
       "      <td>544.77241000</td>\n",
       "      <td>14800056.38030100</td>\n",
       "      <td>15834</td>\n",
       "      <td>262.35711000</td>\n",
       "      <td>7127870.93974070</td>\n",
       "    </tr>\n",
       "    <tr>\n",
       "      <th>716</th>\n",
       "      <td>27176.22000000</td>\n",
       "      <td>27191.10000000</td>\n",
       "      <td>27156.60000000</td>\n",
       "      <td>27168.53000000</td>\n",
       "      <td>367.38889000</td>\n",
       "      <td>9982480.46233760</td>\n",
       "      <td>18654</td>\n",
       "      <td>163.72142000</td>\n",
       "      <td>4448488.69419540</td>\n",
       "    </tr>\n",
       "    <tr>\n",
       "      <th>717</th>\n",
       "      <td>27129.32000000</td>\n",
       "      <td>27176.22000000</td>\n",
       "      <td>27118.00000000</td>\n",
       "      <td>27176.22000000</td>\n",
       "      <td>462.73225000</td>\n",
       "      <td>12565739.13290840</td>\n",
       "      <td>16080</td>\n",
       "      <td>183.96387000</td>\n",
       "      <td>4995565.20457170</td>\n",
       "    </tr>\n",
       "    <tr>\n",
       "      <th>718</th>\n",
       "      <td>27098.85000000</td>\n",
       "      <td>27138.34000000</td>\n",
       "      <td>27089.74000000</td>\n",
       "      <td>27129.32000000</td>\n",
       "      <td>668.41698000</td>\n",
       "      <td>18123694.65053080</td>\n",
       "      <td>15642</td>\n",
       "      <td>304.01727000</td>\n",
       "      <td>8242668.57337380</td>\n",
       "    </tr>\n",
       "    <tr>\n",
       "      <th>719</th>\n",
       "      <td>27080.38000000</td>\n",
       "      <td>27103.00000000</td>\n",
       "      <td>27080.00000000</td>\n",
       "      <td>27098.84000000</td>\n",
       "      <td>151.33064000</td>\n",
       "      <td>4099983.56714880</td>\n",
       "      <td>4833</td>\n",
       "      <td>63.85187000</td>\n",
       "      <td>1729895.45215730</td>\n",
       "    </tr>\n",
       "  </tbody>\n",
       "</table>\n",
       "<p>720 rows × 9 columns</p>\n",
       "</div>"
      ],
      "text/plain": [
       "              close            high             low            open  \\\n",
       "0    28155.03000000  28173.94000000  27839.31000000  27916.87000000   \n",
       "1    28071.90000000  28237.30000000  28015.71000000  28155.02000000   \n",
       "2    28060.85000000  28112.50000000  27967.09000000  28071.89000000   \n",
       "3    28001.96000000  28152.62000000  27936.80000000  28060.85000000   \n",
       "4    28066.21000000  28093.55000000  27919.69000000  28001.96000000   \n",
       "..              ...             ...             ...             ...   \n",
       "715  27168.54000000  27191.04000000  27145.59000000  27158.79000000   \n",
       "716  27176.22000000  27191.10000000  27156.60000000  27168.53000000   \n",
       "717  27129.32000000  27176.22000000  27118.00000000  27176.22000000   \n",
       "718  27098.85000000  27138.34000000  27089.74000000  27129.32000000   \n",
       "719  27080.38000000  27103.00000000  27080.00000000  27098.84000000   \n",
       "\n",
       "            volume    quoteAssetVolume  numberOfTrader  \\\n",
       "0    5443.96189000  152355493.13394260           89015   \n",
       "1    2847.93515000   80064735.18189570           57792   \n",
       "2    1945.42052000   54560381.19529480           37520   \n",
       "3    2090.75767000   58652886.13923020           42506   \n",
       "4    2602.24007000   72880442.44866950           45978   \n",
       "..             ...                 ...             ...   \n",
       "715   544.77241000   14800056.38030100           15834   \n",
       "716   367.38889000    9982480.46233760           18654   \n",
       "717   462.73225000   12565739.13290840           16080   \n",
       "718   668.41698000   18123694.65053080           15642   \n",
       "719   151.33064000    4099983.56714880            4833   \n",
       "\n",
       "    takerBuyBaseAssetVolume takerBuyQuoteAssetVolume  \n",
       "0             3122.80075000        87403055.52622060  \n",
       "1             1389.19303000        39057693.08022460  \n",
       "2              851.81226000        23889305.67887860  \n",
       "3              997.57601000        27987915.97858730  \n",
       "4             1336.73757000        37437351.66433840  \n",
       "..                      ...                      ...  \n",
       "715            262.35711000         7127870.93974070  \n",
       "716            163.72142000         4448488.69419540  \n",
       "717            183.96387000         4995565.20457170  \n",
       "718            304.01727000         8242668.57337380  \n",
       "719             63.85187000         1729895.45215730  \n",
       "\n",
       "[720 rows x 9 columns]"
      ]
     },
     "execution_count": 7,
     "metadata": {},
     "output_type": "execute_result"
    }
   ],
   "source": [
    "df = df[[\"close\", \"high\", \"low\", \"open\", \"volume\", \"quoteAssetVolume\", \"numberOfTrader\", \\\n",
    "                   \"takerBuyBaseAssetVolume\", \"takerBuyQuoteAssetVolume\"]]\n",
    "df"
   ]
  },
  {
   "cell_type": "code",
   "execution_count": 8,
   "id": "69bd0b44",
   "metadata": {},
   "outputs": [
    {
     "name": "stderr",
     "output_type": "stream",
     "text": [
      "C:\\Users\\mirom\\AppData\\Local\\Temp\\ipykernel_5992\\2842289865.py:1: SettingWithCopyWarning: \n",
      "A value is trying to be set on a copy of a slice from a DataFrame.\n",
      "Try using .loc[row_indexer,col_indexer] = value instead\n",
      "\n",
      "See the caveats in the documentation: https://pandas.pydata.org/pandas-docs/stable/user_guide/indexing.html#returning-a-view-versus-a-copy\n",
      "  df[\"label\"] = df.close.shift(-1)\n"
     ]
    },
    {
     "data": {
      "text/html": [
       "<div>\n",
       "<style scoped>\n",
       "    .dataframe tbody tr th:only-of-type {\n",
       "        vertical-align: middle;\n",
       "    }\n",
       "\n",
       "    .dataframe tbody tr th {\n",
       "        vertical-align: top;\n",
       "    }\n",
       "\n",
       "    .dataframe thead th {\n",
       "        text-align: right;\n",
       "    }\n",
       "</style>\n",
       "<table border=\"1\" class=\"dataframe\">\n",
       "  <thead>\n",
       "    <tr style=\"text-align: right;\">\n",
       "      <th></th>\n",
       "      <th>close</th>\n",
       "      <th>high</th>\n",
       "      <th>low</th>\n",
       "      <th>open</th>\n",
       "      <th>volume</th>\n",
       "      <th>quoteAssetVolume</th>\n",
       "      <th>numberOfTrader</th>\n",
       "      <th>takerBuyBaseAssetVolume</th>\n",
       "      <th>takerBuyQuoteAssetVolume</th>\n",
       "      <th>label</th>\n",
       "    </tr>\n",
       "  </thead>\n",
       "  <tbody>\n",
       "    <tr>\n",
       "      <th>0</th>\n",
       "      <td>28155.03000000</td>\n",
       "      <td>28173.94000000</td>\n",
       "      <td>27839.31000000</td>\n",
       "      <td>27916.87000000</td>\n",
       "      <td>5443.96189000</td>\n",
       "      <td>152355493.13394260</td>\n",
       "      <td>89015</td>\n",
       "      <td>3122.80075000</td>\n",
       "      <td>87403055.52622060</td>\n",
       "      <td>28071.90000000</td>\n",
       "    </tr>\n",
       "    <tr>\n",
       "      <th>1</th>\n",
       "      <td>28071.90000000</td>\n",
       "      <td>28237.30000000</td>\n",
       "      <td>28015.71000000</td>\n",
       "      <td>28155.02000000</td>\n",
       "      <td>2847.93515000</td>\n",
       "      <td>80064735.18189570</td>\n",
       "      <td>57792</td>\n",
       "      <td>1389.19303000</td>\n",
       "      <td>39057693.08022460</td>\n",
       "      <td>28060.85000000</td>\n",
       "    </tr>\n",
       "    <tr>\n",
       "      <th>2</th>\n",
       "      <td>28060.85000000</td>\n",
       "      <td>28112.50000000</td>\n",
       "      <td>27967.09000000</td>\n",
       "      <td>28071.89000000</td>\n",
       "      <td>1945.42052000</td>\n",
       "      <td>54560381.19529480</td>\n",
       "      <td>37520</td>\n",
       "      <td>851.81226000</td>\n",
       "      <td>23889305.67887860</td>\n",
       "      <td>28001.96000000</td>\n",
       "    </tr>\n",
       "    <tr>\n",
       "      <th>3</th>\n",
       "      <td>28001.96000000</td>\n",
       "      <td>28152.62000000</td>\n",
       "      <td>27936.80000000</td>\n",
       "      <td>28060.85000000</td>\n",
       "      <td>2090.75767000</td>\n",
       "      <td>58652886.13923020</td>\n",
       "      <td>42506</td>\n",
       "      <td>997.57601000</td>\n",
       "      <td>27987915.97858730</td>\n",
       "      <td>28066.21000000</td>\n",
       "    </tr>\n",
       "    <tr>\n",
       "      <th>4</th>\n",
       "      <td>28066.21000000</td>\n",
       "      <td>28093.55000000</td>\n",
       "      <td>27919.69000000</td>\n",
       "      <td>28001.96000000</td>\n",
       "      <td>2602.24007000</td>\n",
       "      <td>72880442.44866950</td>\n",
       "      <td>45978</td>\n",
       "      <td>1336.73757000</td>\n",
       "      <td>37437351.66433840</td>\n",
       "      <td>28218.64000000</td>\n",
       "    </tr>\n",
       "    <tr>\n",
       "      <th>...</th>\n",
       "      <td>...</td>\n",
       "      <td>...</td>\n",
       "      <td>...</td>\n",
       "      <td>...</td>\n",
       "      <td>...</td>\n",
       "      <td>...</td>\n",
       "      <td>...</td>\n",
       "      <td>...</td>\n",
       "      <td>...</td>\n",
       "      <td>...</td>\n",
       "    </tr>\n",
       "    <tr>\n",
       "      <th>714</th>\n",
       "      <td>27158.79000000</td>\n",
       "      <td>27257.19000000</td>\n",
       "      <td>27150.95000000</td>\n",
       "      <td>27237.76000000</td>\n",
       "      <td>820.46066000</td>\n",
       "      <td>22319652.84477310</td>\n",
       "      <td>20849</td>\n",
       "      <td>359.92185000</td>\n",
       "      <td>9790842.45570550</td>\n",
       "      <td>27168.54000000</td>\n",
       "    </tr>\n",
       "    <tr>\n",
       "      <th>715</th>\n",
       "      <td>27168.54000000</td>\n",
       "      <td>27191.04000000</td>\n",
       "      <td>27145.59000000</td>\n",
       "      <td>27158.79000000</td>\n",
       "      <td>544.77241000</td>\n",
       "      <td>14800056.38030100</td>\n",
       "      <td>15834</td>\n",
       "      <td>262.35711000</td>\n",
       "      <td>7127870.93974070</td>\n",
       "      <td>27176.22000000</td>\n",
       "    </tr>\n",
       "    <tr>\n",
       "      <th>716</th>\n",
       "      <td>27176.22000000</td>\n",
       "      <td>27191.10000000</td>\n",
       "      <td>27156.60000000</td>\n",
       "      <td>27168.53000000</td>\n",
       "      <td>367.38889000</td>\n",
       "      <td>9982480.46233760</td>\n",
       "      <td>18654</td>\n",
       "      <td>163.72142000</td>\n",
       "      <td>4448488.69419540</td>\n",
       "      <td>27129.32000000</td>\n",
       "    </tr>\n",
       "    <tr>\n",
       "      <th>717</th>\n",
       "      <td>27129.32000000</td>\n",
       "      <td>27176.22000000</td>\n",
       "      <td>27118.00000000</td>\n",
       "      <td>27176.22000000</td>\n",
       "      <td>462.73225000</td>\n",
       "      <td>12565739.13290840</td>\n",
       "      <td>16080</td>\n",
       "      <td>183.96387000</td>\n",
       "      <td>4995565.20457170</td>\n",
       "      <td>27098.85000000</td>\n",
       "    </tr>\n",
       "    <tr>\n",
       "      <th>718</th>\n",
       "      <td>27098.85000000</td>\n",
       "      <td>27138.34000000</td>\n",
       "      <td>27089.74000000</td>\n",
       "      <td>27129.32000000</td>\n",
       "      <td>668.41698000</td>\n",
       "      <td>18123694.65053080</td>\n",
       "      <td>15642</td>\n",
       "      <td>304.01727000</td>\n",
       "      <td>8242668.57337380</td>\n",
       "      <td>27080.38000000</td>\n",
       "    </tr>\n",
       "  </tbody>\n",
       "</table>\n",
       "<p>719 rows × 10 columns</p>\n",
       "</div>"
      ],
      "text/plain": [
       "              close            high             low            open  \\\n",
       "0    28155.03000000  28173.94000000  27839.31000000  27916.87000000   \n",
       "1    28071.90000000  28237.30000000  28015.71000000  28155.02000000   \n",
       "2    28060.85000000  28112.50000000  27967.09000000  28071.89000000   \n",
       "3    28001.96000000  28152.62000000  27936.80000000  28060.85000000   \n",
       "4    28066.21000000  28093.55000000  27919.69000000  28001.96000000   \n",
       "..              ...             ...             ...             ...   \n",
       "714  27158.79000000  27257.19000000  27150.95000000  27237.76000000   \n",
       "715  27168.54000000  27191.04000000  27145.59000000  27158.79000000   \n",
       "716  27176.22000000  27191.10000000  27156.60000000  27168.53000000   \n",
       "717  27129.32000000  27176.22000000  27118.00000000  27176.22000000   \n",
       "718  27098.85000000  27138.34000000  27089.74000000  27129.32000000   \n",
       "\n",
       "            volume    quoteAssetVolume  numberOfTrader  \\\n",
       "0    5443.96189000  152355493.13394260           89015   \n",
       "1    2847.93515000   80064735.18189570           57792   \n",
       "2    1945.42052000   54560381.19529480           37520   \n",
       "3    2090.75767000   58652886.13923020           42506   \n",
       "4    2602.24007000   72880442.44866950           45978   \n",
       "..             ...                 ...             ...   \n",
       "714   820.46066000   22319652.84477310           20849   \n",
       "715   544.77241000   14800056.38030100           15834   \n",
       "716   367.38889000    9982480.46233760           18654   \n",
       "717   462.73225000   12565739.13290840           16080   \n",
       "718   668.41698000   18123694.65053080           15642   \n",
       "\n",
       "    takerBuyBaseAssetVolume takerBuyQuoteAssetVolume           label  \n",
       "0             3122.80075000        87403055.52622060  28071.90000000  \n",
       "1             1389.19303000        39057693.08022460  28060.85000000  \n",
       "2              851.81226000        23889305.67887860  28001.96000000  \n",
       "3              997.57601000        27987915.97858730  28066.21000000  \n",
       "4             1336.73757000        37437351.66433840  28218.64000000  \n",
       "..                      ...                      ...             ...  \n",
       "714            359.92185000         9790842.45570550  27168.54000000  \n",
       "715            262.35711000         7127870.93974070  27176.22000000  \n",
       "716            163.72142000         4448488.69419540  27129.32000000  \n",
       "717            183.96387000         4995565.20457170  27098.85000000  \n",
       "718            304.01727000         8242668.57337380  27080.38000000  \n",
       "\n",
       "[719 rows x 10 columns]"
      ]
     },
     "execution_count": 8,
     "metadata": {},
     "output_type": "execute_result"
    }
   ],
   "source": [
    "df[\"label\"] = df.close.shift(-1)\n",
    "X_last = df.iloc[-1, :-1].values\n",
    "df = df.dropna()\n",
    "df"
   ]
  },
  {
   "cell_type": "markdown",
   "id": "9758aedd",
   "metadata": {},
   "source": [
    "# normalize data"
   ]
  },
  {
   "cell_type": "code",
   "execution_count": 9,
   "id": "04fc65b9",
   "metadata": {},
   "outputs": [],
   "source": [
    "scalerX = MinMaxScaler()\n",
    "scalerY = MinMaxScaler()\n",
    "X_prepared = scalerX.fit_transform(df.drop(columns=\"label\"))\n",
    "y_prepared = scalerY.fit_transform(df.label.values.reshape(-1, 1))"
   ]
  },
  {
   "cell_type": "markdown",
   "id": "8a39afcf",
   "metadata": {},
   "source": [
    "# split train test"
   ]
  },
  {
   "cell_type": "code",
   "execution_count": 10,
   "id": "62d2ccbf",
   "metadata": {},
   "outputs": [
    {
     "data": {
      "text/plain": [
       "((671, 9), (48, 9))"
      ]
     },
     "execution_count": 10,
     "metadata": {},
     "output_type": "execute_result"
    }
   ],
   "source": [
    "train_idxs = X_prepared.shape[0] - n_predicts\n",
    "X_train, X_test = X_prepared[:train_idxs, :], X_prepared[train_idxs:, :]\n",
    "y_train, y_test = y_prepared[:train_idxs, :], y_prepared[train_idxs:, :]\n",
    "\n",
    "X_train.shape, X_test.shape"
   ]
  },
  {
   "cell_type": "code",
   "execution_count": 11,
   "id": "4948cb70",
   "metadata": {},
   "outputs": [
    {
     "data": {
      "text/plain": [
       "((671, 1, 9), (48, 1, 9))"
      ]
     },
     "execution_count": 11,
     "metadata": {},
     "output_type": "execute_result"
    }
   ],
   "source": [
    "X_train = np.expand_dims(X_train, 1)\n",
    "X_test = np.expand_dims(X_test, 1)\n",
    "\n",
    "X_train.shape, X_test.shape"
   ]
  },
  {
   "cell_type": "markdown",
   "id": "e100754e",
   "metadata": {},
   "source": [
    "# Keras model"
   ]
  },
  {
   "cell_type": "code",
   "execution_count": 12,
   "id": "d2467f1b",
   "metadata": {},
   "outputs": [],
   "source": [
    "units = 64\n",
    "n_hours = 1\n",
    "n_time_predicts = 2 * 24\n",
    "epochs = 50\n",
    "batch_size = 128\n",
    "verbose = 0\n",
    "min_delta = 1e-15\n",
    "patience = 30\n",
    "monitor = 'val_loss'"
   ]
  },
  {
   "cell_type": "code",
   "execution_count": 13,
   "id": "6890632b",
   "metadata": {},
   "outputs": [],
   "source": [
    "model = Sequential()\n",
    "model.add(LSTM(units,input_shape=(X_train.shape[1], X_train.shape[2]), return_sequences=True))\n",
    "model.add(LSTM(units))\n",
    "model.add(Dense(1))\n",
    "model.compile(loss='mse', optimizer='adam')"
   ]
  },
  {
   "cell_type": "markdown",
   "id": "735d1242",
   "metadata": {},
   "source": [
    "# model training"
   ]
  },
  {
   "cell_type": "code",
   "execution_count": 14,
   "id": "7ef375ff",
   "metadata": {},
   "outputs": [
    {
     "data": {
      "text/plain": [
       "<keras.callbacks.History at 0x14f4d053040>"
      ]
     },
     "execution_count": 14,
     "metadata": {},
     "output_type": "execute_result"
    }
   ],
   "source": [
    "model.fit(X_train, y_train, epochs=epochs, batch_size=batch_size, verbose=verbose, shuffle=False, validation_data=(X_test, y_test),\n",
    "    callbacks = [EarlyStopping(monitor=monitor, min_delta=min_delta, patience=patience)])"
   ]
  },
  {
   "cell_type": "code",
   "execution_count": 15,
   "id": "14b534eb",
   "metadata": {},
   "outputs": [
    {
     "name": "stdout",
     "output_type": "stream",
     "text": [
      "21/21 [==============================] - 2s 4ms/step\n",
      "2/2 [==============================] - 0s 0s/step\n"
     ]
    }
   ],
   "source": [
    "y_train_hat = model.predict(X_train)\n",
    "y_test_hat = model.predict(X_test)"
   ]
  },
  {
   "cell_type": "code",
   "execution_count": 16,
   "id": "8fb70d21",
   "metadata": {},
   "outputs": [
    {
     "data": {
      "text/plain": [
       "Text(0, 0.5, 'USD ($)')"
      ]
     },
     "execution_count": 16,
     "metadata": {},
     "output_type": "execute_result"
    },
    {
     "data": {
      "image/png": "[encoded data removed]",
      "text/plain": [
       "<Figure size 640x480 with 1 Axes>"
      ]
     },
     "metadata": {},
     "output_type": "display_data"
    }
   ],
   "source": [
    "# training fig\n",
    "y_train_back = scalerY.inverse_transform(y_train)\n",
    "y_train_hat_back = scalerY.inverse_transform(y_train_hat)\n",
    "\n",
    "plt.plot(y_train_back, c='b', label=\"test\",)\n",
    "plt.plot(y_train_hat_back, c='r', label=\"predict\")\n",
    "\n",
    "plt.ylabel(\"USD ($)\")"
   ]
  },
  {
   "cell_type": "code",
   "execution_count": 17,
   "id": "b94aac7b",
   "metadata": {},
   "outputs": [
    {
     "data": {
      "text/plain": [
       "Text(0, 0.5, 'USD ($)')"
      ]
     },
     "execution_count": 17,
     "metadata": {},
     "output_type": "execute_result"
    },
    {
     "data": {
      "image/png": "[encoded data removed]",
      "text/plain": [
       "<Figure size 640x480 with 1 Axes>"
      ]
     },
     "metadata": {},
     "output_type": "display_data"
    }
   ],
   "source": [
    "# testing fig\n",
    "y_test_back = scalerY.inverse_transform(y_test)\n",
    "y_test_hat_back = scalerY.inverse_transform(y_test_hat)\n",
    "\n",
    "plt.plot(y_test_back, c='b', label=\"test\",)\n",
    "plt.plot(y_test_hat_back, c='r', label=\"predict\")\n",
    "\n",
    "plt.ylabel(\"USD ($)\")"
   ]
  },
  {
   "cell_type": "code",
   "execution_count": 18,
   "id": "67df240c",
   "metadata": {},
   "outputs": [
    {
     "name": "stderr",
     "output_type": "stream",
     "text": [
      "C:\\Users\\mirom\\anaconda3\\lib\\site-packages\\sklearn\\base.py:450: UserWarning: X does not have valid feature names, but MinMaxScaler was fitted with feature names\n",
      "  warnings.warn(\n"
     ]
    }
   ],
   "source": [
    "X_last_prepared = scalerX.transform(X_last.reshape(1, -1))\n",
    "X_last_prepared = np.expand_dims(X_last_prepared, 1)"
   ]
  },
  {
   "cell_type": "code",
   "execution_count": 19,
   "id": "7cc50784",
   "metadata": {},
   "outputs": [
    {
     "name": "stdout",
     "output_type": "stream",
     "text": [
      "1/1 [==============================] - 0s 57ms/step\n"
     ]
    }
   ],
   "source": [
    "y_last = model.predict(X_last_prepared)\n",
    "y_last_back = scalerY.inverse_transform(y_last)\n"
   ]
  },
  {
   "cell_type": "code",
   "execution_count": 20,
   "id": "9d9f87f3",
   "metadata": {},
   "outputs": [],
   "source": [
    "y_test_df = pd.DataFrame(y_test_back).reset_index()\n",
    "y_test_df.index = y_test_df.index.astype(\"int\")\n",
    "y_test_plot = y_test_df.values.tolist()\n",
    "\n",
    "y_last_plot = [y_test_plot[-1]]\n",
    "y_last_plot.append([len(y_test_plot), y_last_back.item()])"
   ]
  },
  {
   "cell_type": "code",
   "execution_count": 21,
   "id": "789e0e69",
   "metadata": {},
   "outputs": [
    {
     "data": {
      "image/png": "[encoded data removed]",
      "text/plain": [
       "<Figure size 640x480 with 1 Axes>"
      ]
     },
     "metadata": {},
     "output_type": "display_data"
    }
   ],
   "source": [
    "import pylab as pl\n",
    "from matplotlib import collections  as mc\n",
    "\n",
    "lines = [y_test_plot[-10:], y_last_plot]\n",
    "\n",
    "lc = mc.LineCollection(lines, colors=['b', 'r'], linestyle=['-', '--'])\n",
    "fig, ax = pl.subplots()\n",
    "ax.add_collection(lc)\n",
    "ax.autoscale()\n",
    "ax.margins(0.1)"
   ]
  },
  {
   "cell_type": "markdown",
   "id": "26fda567",
   "metadata": {},
   "source": [
    "# export json"
   ]
  },
  {
   "cell_type": "code",
   "execution_count": 22,
   "id": "8217ffed",
   "metadata": {},
   "outputs": [
    {
     "name": "stderr",
     "output_type": "stream",
     "text": [
      "C:\\Users\\mirom\\AppData\\Local\\Temp\\ipykernel_5992\\123511829.py:1: SettingWithCopyWarning: \n",
      "A value is trying to be set on a copy of a slice from a DataFrame.\n",
      "Try using .loc[row_indexer,col_indexer] = value instead\n",
      "\n",
      "See the caveats in the documentation: https://pandas.pydata.org/pandas-docs/stable/user_guide/indexing.html#returning-a-view-versus-a-copy\n",
      "  df.close = df.close.astype(\"double\")\n"
     ]
    }
   ],
   "source": [
    "df.close = df.close.astype(\"double\")\n",
    "\n",
    "pred_close_next = round(y_last_back.item(), 2)\n",
    "open_next = round(df.close.values[-1], 2)"
   ]
  },
  {
   "cell_type": "code",
   "execution_count": 23,
   "id": "63496407",
   "metadata": {},
   "outputs": [],
   "source": [
    "data = {\n",
    "    \"openPrice\": open_next,\n",
    "    \"predictPrice\": pred_close_next\n",
    "  }"
   ]
  },
  {
   "cell_type": "code",
   "execution_count": 24,
   "id": "591ce856",
   "metadata": {},
   "outputs": [],
   "source": [
    "import json\n",
    "with open('../src/components/predict_1hour.json', 'w') as f:\n",
    "    json.dump(data, f)"
   ]
  },
  {
   "cell_type": "code",
   "execution_count": 25,
   "id": "529adff8",
   "metadata": {},
   "outputs": [
    {
     "data": {
      "text/plain": [
       "27112.66"
      ]
     },
     "execution_count": 25,
     "metadata": {},
     "output_type": "execute_result"
    }
   ],
   "source": [
    "round(y_last_back.item(), 2)"
   ]
  },
  {
   "cell_type": "code",
   "execution_count": null,
   "id": "8f396484",
   "metadata": {},
   "outputs": [],
   "source": []
  }
 ],
 "metadata": {
  "kernelspec": {
   "display_name": "Python 3 (ipykernel)",
   "language": "python",
   "name": "python3"
  },
  "language_info": {
   "codemirror_mode": {
    "name": "ipython",
    "version": 3
   },
   "file_extension": ".py",
   "mimetype": "text/x-python",
   "name": "python",
   "nbconvert_exporter": "python",
   "pygments_lexer": "ipython3",
   "version": "3.9.13"
  }
 },
 "nbformat": 4,
 "nbformat_minor": 5
}
